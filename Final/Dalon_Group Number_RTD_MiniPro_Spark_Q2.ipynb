{
 "cells": [
  {
   "cell_type": "markdown",
   "metadata": {},
   "source": [
    "# Top trending words in Twitter\n"
   ]
  },
  {
   "cell_type": "markdown",
   "metadata": {},
   "source": [
    "## Q2 Get trending Topics in twitter right now:\n",
    "\n",
    "    - Find the word from the tweet which is occurring most number of the times in the whole tweets corpus.\n",
    "    - Top 10 trending topic.\n"
   ]
  },
  {
   "cell_type": "code",
   "execution_count": 1,
   "metadata": {
    "collapsed": true
   },
   "outputs": [],
   "source": [
    "from __future__ import print_function\n",
    "\n",
    "import pandas as pd\n",
    "import matplotlib.pyplot as plt\n",
    "import seaborn as sn # For plotting\n",
    "import time\n",
    "\n",
    "from IPython import display  # To work with graphs on jupyter\n",
    "from pyspark import SparkContext\n",
    "from pyspark.streaming import StreamingContext\n",
    "from pyspark.sql import SQLContext\n",
    "from pyspark.sql.functions import desc\n",
    "from collections import namedtuple #function for creating tuple subclasses with named fields"
   ]
  },
  {
   "cell_type": "code",
   "execution_count": 2,
   "metadata": {
    "collapsed": true
   },
   "outputs": [],
   "source": [
    "# magic function to plot inline\n",
    "%matplotlib inline"
   ]
  },
  {
   "cell_type": "code",
   "execution_count": 3,
   "metadata": {
    "scrolled": true
   },
   "outputs": [
    {
     "data": {
      "image/png": "[encoded data removed]",
      "text/plain": [
       "<matplotlib.figure.Figure at 0x7fd6a4b2dfd0>"
      ]
     },
     "metadata": {},
     "output_type": "display_data"
    },
    {
     "name": "stdout",
     "output_type": "stream",
     "text": [
      "Stoping the program\n"
     ]
    }
   ],
   "source": [
    "if __name__ == \"__main__\":\n",
    "\n",
    "    sc = SparkContext(appName=\"TrendingTopics\")  # Start sparkcontext\n",
    "    ssc = StreamingContext(sc, 60 * 60)  # Setting 1hr streaming interval\n",
    "    sqlContext = SQLContext(sc)  # Sql context for running sql query\n",
    "    \n",
    "    # Host port of server which is sending text stream\n",
    "    host = \"localhost\"\n",
    "    port = 8878\n",
    "    socketStream = ssc.socketTextStream(host, port) # Connecting to socket\n",
    "    dStream = socketStream.window(60 * 60)  # Setting 1hr window\n",
    "\n",
    "    fields = (\"Hash\", \"count\")\n",
    "    Tweet = namedtuple('Tweet', fields)\n",
    "    \n",
    "    # DStream where all the computation is done\n",
    "    (dStream.flatMap(lambda text: text.split(\" \"))\\\n",
    "          .filter(lambda word: word.lower().startswith(\"#\"))\\\n",
    "          .map(lambda word: (word.lower(), 1))\\\n",
    "          .reduceByKey(lambda a, b: a + b)\\\n",
    "          .map(lambda rec: Tweet(rec[0], rec[1]))\\\n",
    "          .foreachRDD(lambda rdd: rdd.toDF().sort(desc(\"count\"))\\\n",
    "                      .limit(10).registerTempTable(\"tweets\")))\n",
    "    \n",
    "    # Start the streamer, make sure to stop it\n",
    "    ssc.start()\n",
    "#     ssc.awaitTermination()\n",
    "\n",
    "    while True:  # Display graph here\n",
    "        try:\n",
    "            time.sleep(60 * 60)  # Sleep 1hr, plot graph every hour\n",
    "            topics = sqlContext.sql('Select Hash, count from tweets')\n",
    "            topics = topics.toPandas()\n",
    "            display.clear_output(wait=True)\n",
    "            sn.set_style(\"whitegrid\")  # Styling of plot\n",
    "            sn.plt.figure(figsize = (10, 8)) # Figuresize of plot\n",
    "            ax = sn.barplot(x=\"count\", y=\"Hash\", data=topics, estimator=sum)\n",
    "            ax.set(xlabel='Count', ylabel='Trending Topic') # Labeling of plot\n",
    "            sn.plt.show()\n",
    "        except KeyboardInterrupt:  # User interrupt\n",
    "            ssc.stop()\n",
    "            print(\"Stoping the program\")\n",
    "            break\n",
    "        # Continue even if there is exception and stop only on Keyboard Interrupt\n",
    "        except Exception as e:  \n",
    "            print(e)\n",
    "            continue\n"
   ]
  }
 ],
 "metadata": {
  "kernelspec": {
   "display_name": "Python 2",
   "language": "python",
   "name": "python2"
  },
  "language_info": {
   "codemirror_mode": {
    "name": "ipython",
    "version": 2
   },
   "file_extension": ".py",
   "mimetype": "text/x-python",
   "name": "python",
   "nbconvert_exporter": "python",
   "pygments_lexer": "ipython2",
   "version": "2.7.13"
  }
 },
 "nbformat": 4,
 "nbformat_minor": 2
}
