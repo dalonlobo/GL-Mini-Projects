{
 "cells": [
  {
   "cell_type": "markdown",
   "metadata": {},
   "source": [
    " ## Q7 Most popular tweets:\n",
    "\n",
    "    - Most popular tweets means here is the tweet which has been re-tweeted maximum number of times.\n",
    "    - Get top 100 most re-tweeted tweets in last 1 hour related to “iphone”.\n",
    "\n"
   ]
  },
  {
   "cell_type": "code",
   "execution_count": 1,
   "metadata": {
    "collapsed": true
   },
   "outputs": [],
   "source": [
    "from __future__ import print_function\n",
    "\n",
    "import pandas as pd\n",
    "import matplotlib.pyplot as plt\n",
    "import seaborn as sn # For plotting\n",
    "import time\n",
    "import json\n",
    "\n",
    "from IPython import display  # To work with graphs on jupyter\n",
    "from pyspark import SparkContext\n",
    "from pyspark.streaming import StreamingContext\n",
    "from pyspark.sql import SQLContext\n",
    "from pyspark.sql.functions import desc\n",
    "from collections import namedtuple #function for creating tuple subclasses with named fields"
   ]
  },
  {
   "cell_type": "code",
   "execution_count": 2,
   "metadata": {
    "collapsed": true
   },
   "outputs": [],
   "source": [
    "# magic function to plot inline\n",
    "%matplotlib inline"
   ]
  },
  {
   "cell_type": "code",
   "execution_count": 3,
   "metadata": {
    "scrolled": true
   },
   "outputs": [],
   "source": [
    "if __name__ == \"__main__\":\n",
    "\n",
    "    sc = SparkContext(appName=\"TwitterRetweet\")\n",
    "    ssc = StreamingContext(sc, 60 * 60)  # Setting 1hr interval\n",
    "    sqlContext = SQLContext(sc)  # Sql context for running sql query\n",
    " \n",
    "    # Host port of server which is sending text stream\n",
    "    host = \"localhost\"\n",
    "    port = 8700\n",
    "    socketStream = ssc.socketTextStream(host, port) # Connecting to socket\n",
    "    dStream = socketStream.window(60 * 60)  # Setting 1hr window\n",
    "    \n",
    "    def parseTweet(dStream): # Data Manupulation\n",
    "        try:\n",
    "            data = json.loads(dStream)  # Load the json data\n",
    "            return [( # Tuple of name and follower count\n",
    "                     data.get(\"text\", \"undefined\"), \n",
    "                     int(data.get(\"retweetcount\", 0))\n",
    "                    )]\n",
    "        except:\n",
    "            return []\n",
    "        \n",
    "    def displayTweet(time, rdd): # Print the data in readable format\n",
    "        try:\n",
    "            print(time)\n",
    "            print(\"Top 100 Popular Tweets: \")\n",
    "            print(\"Rank\".center(6, \"-\") + \"|\" + \"Tweet\".center(40, \"-\") + \"|\" + \"Retweet Count\".center(20, \"-\"))\n",
    "            for rank, item in enumerate(rdd.distinct().takeOrdered(100, key=lambda x: -x[1])):\n",
    "                print(str(rank + 1).center(6, \" \") + \n",
    "                      \"|\" + item[0] + \n",
    "                      \"|\" + str(item[1]).rjust(15, \" \")\n",
    "                     )\n",
    "        except ValueError:\n",
    "            pass\n",
    "    \n",
    "    _influencial = dStream.flatMap(parseTweet)\\\n",
    "                          .transform(  # Sorting the data\n",
    "                                     lambda rdd: rdd.sortBy(lambda x: x[1], ascending=False)\n",
    "                          ).foreachRDD(displayTweet)\n",
    "    \n",
    "    fields = (\"id\", \"count\")\n",
    "    Tweet = namedtuple('Tweet', fields)\n",
    "    # DStream where all the computation is done\n",
    "    (dStream.flatMap(parseTweet)\\\n",
    "                          .transform(  # Sorting the data\n",
    "                                     lambda rdd: rdd.sortBy(lambda x: x[1], ascending=False)\n",
    "                          )\\\n",
    "          .map(lambda rec: Tweet(rec[0], rec[1]))\\\n",
    "          .foreachRDD(lambda rdd: rdd.toDF().sort(desc(\"count\"))\\\n",
    "                      .limit(10).registerTempTable(\"tweets\")))\n",
    "        \n",
    "    ssc.start()\n",
    "#    ssc.awaitTermination()"
   ]
  },
  {
   "cell_type": "code",
   "execution_count": 4,
   "metadata": {},
   "outputs": [
    {
     "data": {
      "image/png": "[encoded data removed]",
      "text/plain": [
       "<matplotlib.figure.Figure at 0x7f70e5fd3910>"
      ]
     },
     "metadata": {},
     "output_type": "display_data"
    },
    {
     "name": "stdout",
     "output_type": "stream",
     "text": [
      "2017-10-08 19:39:50\n",
      "Top 100 Popular Tweets: \n",
      "-Rank-|-----------------Tweet------------------|---Retweet Count----\n",
      "  1   |Learn something new every day: \"How to Use Your iPhone as an Audio Input on Your Mac\" https://t.co/vCD1e2BGks|              0\n",
      "  2   |モイ！iPhoneからキャス配信中 - / ザッツダーン！！！ https://t.co/M0YGeQUlLN|              0\n",
      "  3   |RT @DtimesDream: 【 #Dtimes読者プレゼント 】\n",
      "フォロー&amp;RTで #イングレム ディズニーデザイン｢スマホ耐衝撃ケース キャトル｣（iPhone 8/7/6s/6用） ミニーデザインを1名様にプレゼント☆\n",
      "〆切は10月15日まで！\n",
      "商品詳細… |              0\n",
      "  4   |RT @busou_shoutotsu: 【#ドイ帰れま10 完遂！】\n",
      "このツイキャスを見ていただけたらわかる通りミッション4&amp;5同時クリア！\n",
      "これにてドイの帰れま10無事に終了！\n",
      "武装衝突の三連休ジャック大トリは明日！えのの帰ります！朝10時スタート！\n",
      "乞うご期待！… |              0\n",
      "  5   |モイ！iPhoneからキャス配信中 - https://t.co/SpXd4NhuzU|              0\n",
      "  6   |Harry Potter Quotes Cover Case for iPhone https://t.co/2P8OhV6chf ... https://t.co/wzdZp6VVyE https://t.co/xs8YR4nkAi|              0\n",
      "  7   |iPhoneの画像フォルダみると、思い出が染みてくる。変な言い方だけど、俺結構付き合って遊べてやれたら充分とか思うタイプのとこもあるから絶対に珍しい( ･᷄･᷅ )|              0\n",
      "  8   |RT @martyswant: Asked by David Remnick for an example of a misuse of an iPhone, Apple chief designer Jony Ive said \"perhaps constant use.\"#…|              0\n",
      "  9   |RT @Eye_drops_flow: #photography\n",
      "#photo\n",
      "#ふぉと\n",
      "#ファインダー越しの私の世界\n",
      "#写真好きな人と繋がりたい \n",
      "#夕日\n",
      "#夕暮れ\n",
      "#空\n",
      "#花\n",
      "#flower\n",
      "#iPhone https://t.co/vBdyJtCelR|              0\n",
      "  10  |iPhoneか...|              0\n",
      "  11  |RT @chochos: —¿Cuánto cuesta el iPhone X?\n",
      "—$28,000.\n",
      "—¿Y el 8?\n",
      "—$22,000.\n",
      "—¿El 7?\n",
      "—$18,000.\n",
      "—¿Y el 6?\n",
      "—$10,000.\n",
      "—¿Me da una recarga de $20?|              0\n",
      "  12  |Κυκλάδες / Τήνος / Κρόκος  \n",
      "iPhone 7\n",
      "Copyright © 2017 Vassilis Makris\n",
      "\n",
      "#iphone7 #procamapp @ Tínos https://t.co/p77LRvduH8|              0\n",
      "  13  |モイ！iPhoneからBMSキャス配信中 -無謀特攻祭り https://t.co/k0Kpk1tfvu|              0\n",
      "  14  |@ismeenn iphone takde 😫|              0\n",
      "  15  |Paseando por la #playa #iphone https://t.co/FyfcobuaY9|              0\n",
      "  16  |モイ！iPhoneからキャス配信中 - #福島#釣り https://t.co/ZsAQu0MGSH|              0\n",
      "  17  |いいiPhoneケース見つからない|              0\n",
      "  18  |バッキバキザリザリのiPhoneもっかい落としてさらにヒビ増えた笑\n",
      "このままやとiPhone粉末化する\n",
      "画面の見にくさすんごい👾👾👾|              0\n",
      "  19  |モイ！iPhoneからキャス配信中 - / からおけ #ボカロ https://t.co/cMSAnOYEpm|              0\n",
      "  20  |モイ！iPhoneからキャス配信中 - https://t.co/bmilBAEH39|              0\n",
      "  21  |モイ！iPhoneからキャス配信中 - / 1枠だけ💭 https://t.co/aGcYvJjQht|              0\n",
      "  22  |RT @AlgoElegante: El iPhone 8 y el iPhone X son tan inteligentes que si intentas escuchar \"Despacito\" se bloquean y se reportan como robado…|              0\n",
      "  23  |RT @MochiManggae: If it was a Nokia the bullet would have bounced back and got the shooter. https://t.co/KnaSPFrepG|              0\n",
      "  24  |モイ！iPhoneからキャス配信中 - / 本日も課題やってます https://t.co/JI2jVGZHew|              0\n",
      "  25  |SORTEO iPHONE 8 INTERNACIONAL https://t.co/Sk0BacGx9c|              0\n",
      "  26  |RT @comedyandtruth: Beyoncé: *uses iPhone X facial recognition*\n",
      "\n",
      "iPhone X: https://t.co/RrmnqnQPV2|              0\n",
      "  27  |RT @avoir1375: 電車で隣にいる幼女がお母さんのiPhone借りて勝手にfgo起動して10連やり始めてお母さんがちょっ！？なにやってんのばか！！！ああもう！！とか言って頭抱えてたんだけど、幼女がマーリン出した瞬間手の平クルーしてよくやった！！ってめっちゃ抱きしめて撫…|              0\n",
      "  28  |モイ！iPhoneからキャス配信中 -湧き湧き https://t.co/p06dSxyPtV|              0\n",
      "  29  |モイ！iPhoneからキャス配信中 - https://t.co/ZyQq0N9p1s|              0\n",
      "  30  |Gli iPhone non sono vittima di obsolescenza programmata secondo nuovi benchmark - https://t.co/6W9g3RY9CF https://t.co/gohZpoaKeH|              0\n",
      "  31  |#sale #tablet Easybuy LCD Glass Screen Outer Lens Cover for iPhone 5S (White) (Intl) #philiphines #shop https://t.co/i30gJDFf6h|              0\n",
      "  32  |¡Participo en el sorteo de un iPhone 8 Plus! ¿Te lo vas a perder? Únete al #SorteoiPhone8Plus en https://t.co/1lXRLgFoZ8 #SorteoGS8|              0\n",
      "  33  |モイ！iPhoneからキャス配信中 - コスモード取材二日目終わり！ #マチアソビ https://t.co/9B6iDHiYBt|              0\n",
      "  34  |RT @kaor1n_n: ついに4年間使った5cとお別れして、iPhone7plusに機種変したんですけど、画面の大きさが違いすぎてびっくりしてます笑\n",
      "とにかく写真がめっちゃ綺麗!!!\n",
      "すごい！！\n",
      "iPhoneケース新しく探すのってわくわくしますよね꜀(.௰. ꜆)꜄〜〜|              0\n",
      "  35  |RT @THEPHARRAON: non mais il a qd mm perdu son iPhone 6 Plus 128G 😭 https://t.co/zaESPlWY6K|              0\n",
      "  36  |モイ！iPhoneからキャス配信中 - / ROJACK投票お願いします https://t.co/TIQqBqae0t|              0\n",
      "Stoping the program\n"
     ]
    }
   ],
   "source": [
    "while True:  # Display graph here\n",
    "    try:\n",
    "        time.sleep(60 * 60)  # Sleep 1hr, plot graph every hour\n",
    "        topics = sqlContext.sql('Select id, count from tweets')\n",
    "        topics = topics.toPandas()\n",
    "        display.clear_output(wait=True)\n",
    "        sn.set_style(\"whitegrid\")  # Styling of plot\n",
    "        sn.plt.figure(figsize = (10, 8)) # Figuresize of plot\n",
    "        ax = sn.barplot(x=(topics.index.values + 1), y=topics[\"count\"], estimator=sum)\n",
    "        ax.set(xlabel='Rank of Tweet', ylabel='Retweet Count') # Labeling of plot\n",
    "        sn.plt.show()\n",
    "    except KeyboardInterrupt:  # User interrupt\n",
    "        ssc.stop()\n",
    "        print(\"Stoping the program\")\n",
    "        break\n",
    "    # Continue even if there is exception and stop only on Keyboard Interrupt\n",
    "    except Exception as e:  \n",
    "        print(e)\n",
    "        continue"
   ]
  },
  {
   "cell_type": "markdown",
   "metadata": {},
   "source": [
    "# Insights\n",
    "\n",
    "The reason why retweet count is always 0 is because we receive the tweets as they are posted live on twitter platform, by the time we receive the tweet no other user had a chance to retweet it. If we want to find out the retweet_count we have to refetch this particular tweet some time later using the rest api then we can see the retweet_count will contain the number of retweets happened till this particular point in time. This is not done here currently, because hitting rest api for such a large amount of tweets will hit the limit."
   ]
  }
 ],
 "metadata": {
  "kernelspec": {
   "display_name": "Python 2",
   "language": "python",
   "name": "python2"
  },
  "language_info": {
   "codemirror_mode": {
    "name": "ipython",
    "version": 2
   },
   "file_extension": ".py",
   "mimetype": "text/x-python",
   "name": "python",
   "nbconvert_exporter": "python",
   "pygments_lexer": "ipython2",
   "version": "2.7.13"
  }
 },
 "nbformat": 4,
 "nbformat_minor": 2
}
