{
 "cells": [
  {
   "cell_type": "markdown",
   "metadata": {},
   "source": [
    " ## Q7 Most popular tweets:\n",
    "\n",
    "    - Most popular tweets means here is the tweet which has been re-tweeted maximum number of times.\n",
    "    - Get top 100 most re-tweeted tweets in last 1 hour related to “iphone”.\n",
    "\n"
   ]
  },
  {
   "cell_type": "code",
   "execution_count": 1,
   "metadata": {
    "collapsed": true
   },
   "outputs": [],
   "source": [
    "from __future__ import print_function\n",
    "\n",
    "import pandas as pd\n",
    "import matplotlib.pyplot as plt\n",
    "import seaborn as sn # For plotting\n",
    "import time\n",
    "import json\n",
    "\n",
    "from IPython import display  # To work with graphs on jupyter\n",
    "from pyspark import SparkContext\n",
    "from pyspark.streaming import StreamingContext\n",
    "from pyspark.sql import SQLContext\n",
    "from pyspark.sql.functions import desc\n",
    "from collections import namedtuple #function for creating tuple subclasses with named fields"
   ]
  },
  {
   "cell_type": "code",
   "execution_count": 2,
   "metadata": {
    "collapsed": true
   },
   "outputs": [],
   "source": [
    "# magic function to plot inline\n",
    "%matplotlib inline"
   ]
  },
  {
   "cell_type": "code",
   "execution_count": 3,
   "metadata": {
    "scrolled": true
   },
   "outputs": [],
   "source": [
    "if __name__ == \"__main__\":\n",
    "\n",
    "    sc = SparkContext(appName=\"TwitterStreamer\")\n",
    "    ssc = StreamingContext(sc, 60 * 60)  # Setting 1hr interval\n",
    "    sqlContext = SQLContext(sc)  # Sql context for running sql query\n",
    " \n",
    "    # Host port of server which is sending text stream\n",
    "    host = \"localhost\"\n",
    "    port = 8500\n",
    "    socketStream = ssc.socketTextStream(host, port) # Connecting to socket\n",
    "    dStream = socketStream.window(60 * 60)  # Setting 1hr window\n",
    "    \n",
    "    def parseTweet(dStream): # Data Manupulation\n",
    "        try:\n",
    "            data = json.loads(dStream)  # Load the json data\n",
    "            return [( # Tuple of name and follower count\n",
    "                     data.get(\"name\", \"undefined\"), \n",
    "                     data.get(\"lang\", \"undefined\")\n",
    "                    )]\n",
    "        except:\n",
    "            return []\n",
    "    \n",
    "    fields = (\"lang\", \"count\")\n",
    "    Tweet_Lang = namedtuple('Tweet', fields)\n",
    "    # DStream where all the computation is done\n",
    "    dStream.flatMap(parseTweet)\\\n",
    "            .transform(lambda rdd: rdd.map(lambda x:(x[1], 1))\\\n",
    "                        .reduceByKey(lambda a, b: a + b))\\\n",
    "            .map(lambda tup: Tweet_Lang( tup[0], tup[1]))\\\n",
    "            .foreachRDD(lambda rdd: rdd.toDF().sort(desc(\"count\"))\\\n",
    "                        .limit(30).registerTempTable(\"tweets_lang\"))\n",
    "    \n",
    "\n",
    "    ssc.start()\n",
    "#    ssc.awaitTermination()"
   ]
  },
  {
   "cell_type": "code",
   "execution_count": 4,
   "metadata": {},
   "outputs": [
    {
     "data": {
      "image/png": "[encoded data removed]",
      "text/plain": [
       "<matplotlib.figure.Figure at 0x7fae499c29d0>"
      ]
     },
     "metadata": {},
     "output_type": "display_data"
    },
    {
     "name": "stdout",
     "output_type": "stream",
     "text": [
      "Stoping the program\n"
     ]
    }
   ],
   "source": [
    "while True:  # Display graph here\n",
    "    try:\n",
    "        time.sleep(60 * 60)  # Sleep 1hr, plot graph every hour\n",
    "        topics = sqlContext.sql('Select lang, count from tweets_lang')\n",
    "        topics = topics.toPandas()\n",
    "        display.clear_output(wait=True)\n",
    "        sn.set_style(\"whitegrid\")  # Styling of plot\n",
    "        sn.plt.figure(figsize = (10, 8)) # Figuresize of plot\n",
    "        ax = sn.barplot(x=topics[\"lang\"], y=topics[\"count\"], estimator=sum)\n",
    "        ax.set(xlabel='Trending Language', ylabel='Count') # Labeling of plot\n",
    "        sn.plt.show()\n",
    "    except KeyboardInterrupt:  # User interrupt\n",
    "        ssc.stop()\n",
    "        print(\"Stoping the program\")\n",
    "        break\n",
    "    # Continue even if there is exception and stop only on Keyboard Interrupt\n",
    "    except Exception as e:  \n",
    "        print(e)\n",
    "        continue"
   ]
  }
 ],
 "metadata": {
  "kernelspec": {
   "display_name": "Python 2",
   "language": "python",
   "name": "python2"
  },
  "language_info": {
   "codemirror_mode": {
    "name": "ipython",
    "version": 2
   },
   "file_extension": ".py",
   "mimetype": "text/x-python",
   "name": "python",
   "nbconvert_exporter": "python",
   "pygments_lexer": "ipython2",
   "version": "2.7.13"
  }
 },
 "nbformat": 4,
 "nbformat_minor": 2
}
