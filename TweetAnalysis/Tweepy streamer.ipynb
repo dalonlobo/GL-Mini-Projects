{
 "cells": [
  {
   "cell_type": "markdown",
   "metadata": {},
   "source": [
    "# Tweepy streamer\n"
   ]
  },
  {
   "cell_type": "markdown",
   "metadata": {},
   "source": [
    "Since this is streaming application, we will use python logging module to log. [Further read.](https://www.webcodegeeks.com/python/python-logging-example/)"
   ]
  },
  {
   "cell_type": "code",
   "execution_count": 1,
   "metadata": {
    "collapsed": true
   },
   "outputs": [],
   "source": [
    "import logging # python logging module\n",
    "\n",
    "# basic format for logging\n",
    "logFormat = \"%(asctime)s - [%(levelname)s] (%(funcName)s:%(lineno)d) %(message)s\"\n",
    "\n",
    "# logs will be stored in tweepy.log\n",
    "logging.basicConfig(filename='tweepy.log', level=logging.INFO, \n",
    "                   format=logFormat, datefmt=\"%Y-%m-%d %H:%M:%S\")\n"
   ]
  },
  {
   "cell_type": "markdown",
   "metadata": {},
   "source": [
    "## Authentication and Authorisation\n",
    "\n",
    "Create an app in twitter [here](https://apps.twitter.com/). Copy the necessary keys and access tokens, which will be used here in our code. \n",
    "\n",
    "The authorization is done using Oauth, An open protocol to allow secure authorization in a simple and standard method from web, mobile and desktop applications. [Further read](https://oauth.net/). \n",
    "\n",
    "We will use Tweepy a python module. Tweepy is open-sourced, hosted on [GitHub](https://github.com/tweepy/tweepy) and enables Python to communicate with Twitter platform and use its API. Tweepy supports oauth authentication. Authentication is handled by the tweepy.AuthHandler class."
   ]
  },
  {
   "cell_type": "code",
   "execution_count": null,
   "metadata": {
    "collapsed": true
   },
   "outputs": [],
   "source": [
    "import tweepy  # importing all the modules required\n",
    "import socket  # will be used to create sockets\n",
    "import json    # manipulate json"
   ]
  },
  {
   "cell_type": "code",
   "execution_count": null,
   "metadata": {
    "collapsed": true
   },
   "outputs": [],
   "source": [
    "# Keep these tokens secret, as anyone can have full access to your\n",
    "# twitter account, using these tokens\n",
    "\n",
    "consumerKey = \"#\"\n",
    "consumerSecret = \"#\"\n",
    "\n",
    "accessToken = \"#\"\n",
    "accessTokenSecret = \"#\"\n"
   ]
  },
  {
   "cell_type": "markdown",
   "metadata": {},
   "source": [
    "Post this step, we will have full access to twitter api's"
   ]
  },
  {
   "cell_type": "code",
   "execution_count": null,
   "metadata": {
    "collapsed": true
   },
   "outputs": [],
   "source": [
    "# Performing the authentication and authorization, post this step \n",
    "# we will have full access to twitter api's\n",
    "def connectToTwitter():\n",
    "    \"\"\"Connect to twitter.\"\"\"\n",
    "    try:\n",
    "        auth = tweepy.OAuthHandler(consumerKey, consumerSecret)\n",
    "        auth.set_access_token(accessToken, accessTokenSecret)\n",
    "\n",
    "        api = tweepy.API(auth)\n",
    "        logging.info(\"Successfully logged in to twitter.\")\n",
    "        return api, auth\n",
    "    except Exception as e:\n",
    "        logging.info(\"Something went wrong in oauth, please check your tokens.\")\n",
    "        logging.error(e)\n"
   ]
  },
  {
   "cell_type": "markdown",
   "metadata": {
    "collapsed": true
   },
   "source": [
    "## Streaming with tweepy\n",
    "\n",
    "The Twitter streaming API is used to download twitter messages in real time. We use streaming api instead of rest api because, the REST api is used to pull data from twitter but the streaming api pushes messages to a persistent session. This allows the streaming api to download more data in real time than could be done using the REST API.\n",
    "\n",
    "In Tweepy, an instance of tweepy.Stream establishes a streaming session and routes messages to StreamListener instance. The on_data method of a stream listener receives all messages and calls functions according to the message type. \n",
    "\n",
    "But the on_data method is only a stub, so we need to implement the functionality by subclassing StreamListener. \n",
    "\n",
    "Using the streaming api has three steps.\n",
    "\n",
    "1. Create a class inheriting from StreamListener\n",
    "2. Using that class create a Stream object\n",
    "3. Connect to the Twitter API using the Stream.\n",
    "\n"
   ]
  },
  {
   "cell_type": "code",
   "execution_count": null,
   "metadata": {
    "collapsed": true
   },
   "outputs": [],
   "source": [
    "# Tweet listner class which subclasses from tweepy.StreamListener\n",
    "class TweetListner(tweepy.StreamListener):\n",
    "    \"\"\"Twitter stream listner\"\"\"\n",
    "    \n",
    "    def __init__(self, csocket):\n",
    "        self.clientSocket = csocket\n",
    "        \n",
    "    def dataProcessing(self, data):\n",
    "        \"\"\"Process the data, before sending to spark streaming\n",
    "        \"\"\"\n",
    "        sendData = {}  # data that is sent to spark streamer\n",
    "        user = data.get(\"user\", {})\n",
    "        name = user.get(\"name\", \"undefined\").encode('utf-8')\n",
    "        followersCount = user.get(\"followers_count\", 0)\n",
    "        sendData[\"name\"] = name\n",
    "        sendData[\"followersCount\"] = followersCount\n",
    "        #data_string = \"{}:{}\".format(name, followersCount) \n",
    "        self.clientSocket.send(json.dumps(sendData) + u\"\\n\")  # append new line character, so that spark recognizes it\n",
    "        logging.debug(json.dumps(sendData))\n",
    "    \n",
    "    def on_data(self, raw_data):\n",
    "        \"\"\" Called when raw data is received from connection.\n",
    "            return False to stop stream and close connection.\n",
    "        \"\"\"\n",
    "        try:\n",
    "            data = json.loads(raw_data)\n",
    "            self.dataProcessing(data)\n",
    "            return True\n",
    "        except Exception as e:\n",
    "            logging.error(\"An unhandled exception has occured, check your data processing\")\n",
    "            logging.error(e)\n",
    "            return False\n",
    "    \n",
    "    def on_error(self, status_code):\n",
    "        \"\"\"Called when a non-200 status code is returned\"\"\"\n",
    "        logging.error(\"A non-200 status code is returned\")\n",
    "        return False\n",
    "\n",
    "    def on_exception(self, exception):\n",
    "        \"\"\"Called when an unhandled exception occurs.\"\"\"\n",
    "        logging.error(\"An unhandled exception has occured\")\n",
    "        return\n",
    "    "
   ]
  },
  {
   "cell_type": "code",
   "execution_count": null,
   "metadata": {
    "collapsed": true
   },
   "outputs": [],
   "source": [
    "# Creating a proxy socket\n",
    "def createProxySocket(host, port):\n",
    "    \"\"\" Returns a socket which can be used to connect\n",
    "        to spark.\n",
    "    \"\"\"\n",
    "    try:\n",
    "        s = socket.socket()   # initialize socket instance\n",
    "        s.bind((host, port))  # bind to the given host and port \n",
    "        s.listen(5)           # Enable a server to accept connections.\n",
    "        logging.info(\"Listening on the port {}\".format(port))\n",
    "        cSocket, address = s.accept()  # waiting for a connection\n",
    "        logging.info(\"Received Request from: {}\".format(address))\n",
    "        return cSocket\n",
    "    except socket.error as e:  \n",
    "        if e.errno == socket.errno.EADDRINUSE:  # Address in use\n",
    "            logging.error(\"The given host:port {}:{} is already in use\"\\\n",
    "                         .format(host, port))\n",
    "            logging.info(\"Trying on port: {}\".format(port + 1))\n",
    "            return createProxySocket(host, port + 1)\n"
   ]
  },
  {
   "cell_type": "markdown",
   "metadata": {},
   "source": [
    "## Drawbacks of twitter streaming API\n",
    "\n",
    "The major drawback of the Streaming API is that Twitter’s Steaming API provides only a sample of tweets that are occurring. The actual percentage of total tweets users receive with Twitter’s Streaming API varies heavily based on the criteria users request and the current traffic. Studies have estimated that using Twitter’s Streaming API users can expect to receive anywhere from 1% of the tweets to over 40% of tweets in near real-time. The reason that you do not receive all of the tweets from the Twitter Streaming API is simply because Twitter doesn’t have the current infrastructure to support it, and they don’t want to; hence, the Twitter Firehose. [Ref](https://brightplanet.com/2013/06/twitter-firehose-vs-twitter-api-whats-the-difference-and-why-should-you-care/)\n",
    "\n",
    "So we will use a hack i.e. get the top trending topics and use that to filter data.\n"
   ]
  },
  {
   "cell_type": "code",
   "execution_count": null,
   "metadata": {
    "collapsed": true
   },
   "outputs": [],
   "source": [
    "def getWOEIDForTrendsAvailable(api, place):\n",
    "    \"\"\"Returns the WOEID of the country if the trend is available there. \"\"\"\n",
    "    \n",
    "    # Iterate through trends\n",
    "    data = api.trends_available()\n",
    "    for item in data:\n",
    "        if item[\"name\"] == place:  # Use place = \"Worldwide\" to get woeid of world\n",
    "            woeid = item[\"woeid\"]\n",
    "            break\n",
    "    return woeid #name = India, woeid\n"
   ]
  },
  {
   "cell_type": "code",
   "execution_count": null,
   "metadata": {
    "collapsed": true
   },
   "outputs": [],
   "source": [
    "# Get the list of trending topics from twitter\n",
    "def getTrendingTopics(api, woeid):\n",
    "    \"\"\"Get the top trending topics from twitter\"\"\"\n",
    "    data = api.trends_place(woeid)\n",
    "    listOfTrendingTopic = [trend[\"name\"] for trend in data[0][\"trends\"]]\n",
    "    return listOfTrendingTopic"
   ]
  },
  {
   "cell_type": "code",
   "execution_count": null,
   "metadata": {
    "collapsed": true
   },
   "outputs": [],
   "source": [
    "if __name__ == \"__main__\":\n",
    "    try:\n",
    "        api, auth = connectToTwitter()  # connecting to twitter\n",
    "        # Global information is available by using 1 as the WOEID\n",
    "        # woeid = getWOEIDForTrendsAvailable(api, \"Worldwide\")  # get the woeid of the worldwide\n",
    "        woeid = 1\n",
    "        trendingTopics = getTrendingTopics(api, woeid)\n",
    "        \n",
    "        host = \"localhost\"\n",
    "        port = 8888\n",
    "        cSocket = createProxySocket(host, port)                   # Creating a socket\n",
    "        tweetStream = tweepy.Stream(auth, TweetListner(cSocket))  # Stream the twitter data\n",
    "        tweetStream.filter(track=trendingTopics)                  # Filter on trending topics\n",
    "    except KeyboardInterrupt:                   # Keyboard interrupt called\n",
    "        logging.error(\"KeyboardInterrupt was hit\")\n",
    "    except Exception as e:\n",
    "        logging.error(\"Unhandled exception has occured\")\n",
    "        logging.error(e)\n"
   ]
  }
 ],
 "metadata": {
  "kernelspec": {
   "display_name": "Python 2",
   "language": "python",
   "name": "python2"
  },
  "language_info": {
   "codemirror_mode": {
    "name": "ipython",
    "version": 2
   },
   "file_extension": ".py",
   "mimetype": "text/x-python",
   "name": "python",
   "nbconvert_exporter": "python",
   "pygments_lexer": "ipython2",
   "version": "2.7.13"
  }
 },
 "nbformat": 4,
 "nbformat_minor": 2
}
