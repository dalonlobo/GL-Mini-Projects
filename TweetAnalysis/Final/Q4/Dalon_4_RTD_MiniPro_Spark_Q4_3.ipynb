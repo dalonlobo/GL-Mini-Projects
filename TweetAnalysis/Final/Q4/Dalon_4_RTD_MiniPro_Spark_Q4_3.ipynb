{
 "cells": [
  {
   "cell_type": "markdown",
   "metadata": {},
   "source": [
    " ##   Geo based analysis:\n",
    "\n",
    "    - Country based tweets count.\n",
    "    - Top countries in terms of Tweets Volume.\n",
    "    - List of top 15 countries in terms of tweet counts.\n",
    "    "
   ]
  },
  {
   "cell_type": "code",
   "execution_count": 1,
   "metadata": {
    "collapsed": true
   },
   "outputs": [],
   "source": [
    "from __future__ import print_function\n",
    "\n",
    "import pandas as pd\n",
    "import matplotlib.pyplot as plt\n",
    "import seaborn as sn # For plotting\n",
    "import time\n",
    "import json\n",
    "\n",
    "from IPython import display  # To work with graphs on jupyter\n",
    "from pyspark import SparkContext\n",
    "from pyspark.streaming import StreamingContext\n",
    "from pyspark.sql import SQLContext\n",
    "from pyspark.sql.functions import desc\n",
    "from collections import namedtuple #function for creating tuple subclasses with named fields\n",
    "\n",
    "import reverse_geocoder as rg # Country name from lat lon"
   ]
  },
  {
   "cell_type": "code",
   "execution_count": 2,
   "metadata": {
    "collapsed": true
   },
   "outputs": [],
   "source": [
    "# magic function to plot inline\n",
    "%matplotlib inline"
   ]
  },
  {
   "cell_type": "code",
   "execution_count": null,
   "metadata": {
    "scrolled": true
   },
   "outputs": [],
   "source": [
    "if __name__ == \"__main__\":\n",
    "\n",
    "    sc = SparkContext(appName=\"TwitterStreamer\")\n",
    "    ssc = StreamingContext(sc, 60 * 60)  # Setting 1hr interval\n",
    "    sqlContext = SQLContext(sc)  # Sql context for running sql query\n",
    " \n",
    "    # Host port of server which is sending text stream\n",
    "    host = \"localhost\"\n",
    "    port = 8400\n",
    "    socketStream = ssc.socketTextStream(host, port) # Connecting to socket\n",
    "    dStream = socketStream.window(60 * 60)  # Setting 1hr window\n",
    "    \n",
    "    def parseTweet(dStream): # Data Manupulation\n",
    "#         try:\n",
    "        data = json.loads(dStream)  # Load the json data\n",
    "        coordinates = (data.get(\"lat\", 0), data.get(\"lon\", 0)),\n",
    "        results = rg.search(coordinates)\n",
    "        location = results[0][\"cc\"] \n",
    "        print(location)\n",
    "        return [( # Tuple of name and follower count\n",
    "                 location,\n",
    "                )]\n",
    "#         except:\n",
    "#             return []\n",
    "    \n",
    "    fields = (\"city\", \"count\")\n",
    "    Tweet = namedtuple('Tweet', fields)\n",
    "    # DStream where all the computation is done\n",
    "    (dStream.flatMap(parseTweet)\\\n",
    "            .transform(lambda rdd: rdd.map(lambda x:(x[0], 1))\\\n",
    "                        .reduceByKey(lambda a, b: a + b))\\\n",
    "            .map(lambda rec: Tweet(rec[0], rec[1]))\\\n",
    "            .foreachRDD(lambda rdd: rdd.toDF().sort(desc(\"count\"))\\\n",
    "                       .limit(15).registerTempTable(\"tweets_loc\")))\n",
    "    \n",
    "\n",
    "    ssc.start()\n",
    "#    ssc.awaitTermination()"
   ]
  },
  {
   "cell_type": "code",
   "execution_count": null,
   "metadata": {},
   "outputs": [
    {
     "data": {
      "image/png": "[encoded data removed]",
      "text/plain": [
       "<matplotlib.figure.Figure at 0x7ff0bdbaf250>"
      ]
     },
     "metadata": {},
     "output_type": "display_data"
    }
   ],
   "source": [
    "while True:  # Display graph here\n",
    "    try:\n",
    "        time.sleep(60 * 60)  # Sleep 1hr, plot graph every hour\n",
    "        topics = sqlContext.sql('Select city, count from tweets_loc')\n",
    "        topics = topics.toPandas()\n",
    "        topics.head()\n",
    "        display.clear_output(wait=True)\n",
    "        sn.set_style(\"whitegrid\")  # Styling of plot\n",
    "        sn.plt.figure(figsize = (10, 8)) # Figuresize of plot\n",
    "        ax = sn.barplot(x=topics[\"city\"], y=topics[\"count\"], estimator=sum)\n",
    "        ax.set(xlabel='City', ylabel='Count') # Labeling of plot\n",
    "        sn.plt.show()\n",
    "    except KeyboardInterrupt:  # User interrupt\n",
    "        ssc.stop()\n",
    "        print(\"Stoping the program\")\n",
    "        break\n",
    "    # Continue even if there is exception and stop only on Keyboard Interrupt\n",
    "    except Exception as e:  \n",
    "        print(e)\n",
    "        continue"
   ]
  }
 ],
 "metadata": {
  "kernelspec": {
   "display_name": "Python 2",
   "language": "python",
   "name": "python2"
  },
  "language_info": {
   "codemirror_mode": {
    "name": "ipython",
    "version": 2
   },
   "file_extension": ".py",
   "mimetype": "text/x-python",
   "name": "python",
   "nbconvert_exporter": "python",
   "pygments_lexer": "ipython2",
   "version": "2.7.13"
  }
 },
 "nbformat": 4,
 "nbformat_minor": 2
}
