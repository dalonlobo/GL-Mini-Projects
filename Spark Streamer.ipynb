{
 "cells": [
  {
   "cell_type": "markdown",
   "metadata": {},
   "source": [
    "# Spark streamer"
   ]
  },
  {
   "cell_type": "code",
   "execution_count": 1,
   "metadata": {},
   "outputs": [],
   "source": [
    "# Importing all the required modules\n",
    "from pyspark import SparkContext\n",
    "from pyspark.streaming import StreamingContext\n"
   ]
  },
  {
   "cell_type": "code",
   "execution_count": 2,
   "metadata": {
    "collapsed": true
   },
   "outputs": [],
   "source": [
    "import logging # python logging module\n",
    "\n",
    "# basic format for logging\n",
    "logFormat = \"%(asctime)s - [%(levelname)s] (%(funcName)s:%(lineno)d) %(message)s\"\n",
    "\n",
    "# logs will be stored in tweepy.log\n",
    "logging.basicConfig(filename='SparkStreaming.log', level=logging.INFO, \n",
    "                   format=logFormat, datefmt=\"%Y-%m-%d %H:%M:%S\")\n"
   ]
  },
  {
   "cell_type": "code",
   "execution_count": 3,
   "metadata": {
    "collapsed": true
   },
   "outputs": [],
   "source": [
    "# Initialize the spark context\n",
    "sc = SparkContext(appName=\"TwitterAnalysis\")\n",
    "sc.setLogLevel(\"ERROR\")\n"
   ]
  },
  {
   "cell_type": "code",
   "execution_count": 4,
   "metadata": {
    "collapsed": true
   },
   "outputs": [],
   "source": [
    "# Initialize the streaming context\n",
    "ssc = StreamingContext(sc, 30)\n"
   ]
  },
  {
   "cell_type": "code",
   "execution_count": 5,
   "metadata": {
    "collapsed": true
   },
   "outputs": [],
   "source": [
    "# Connect to the stream data\n",
    "host = \"localhost\"\n",
    "port = 8890\n",
    "socketStream = ssc.socketTextStream(host, port)"
   ]
  },
  {
   "cell_type": "code",
   "execution_count": 6,
   "metadata": {},
   "outputs": [],
   "source": [
    "lines = socketStream.window(60) # set the sliding window\n",
    "\n",
    "#data = lines.map(lambda text : text.split(\":\"))\n",
    "#data = data.map(lambda line: (line[0], int(line[1])))\n",
    "\n",
    "def parse(line):\n",
    "    try:\n",
    "        k, v = line.split(\":\")\n",
    "        return [(k, int(v))]\n",
    "    except:\n",
    "        return []\n",
    "\n",
    "parsed = lines.flatMap(parse)\n",
    "sorted_ = parsed.transform(\n",
    "    lambda rdd: rdd.sortBy(lambda x: x[1], ascending=False))\n",
    "sorted_.pprint(20)\n",
    "#author_count_sorted_dstream = hashtags.transform(lambda foo : foo.sortBy(lambda x : x[0].lower()).sortBy(lambda x : x[1].lower(),ascending=False))\n",
    "\n",
    "#author_count_sorted_dstream.pprint()\n",
    "#data.pprint()"
   ]
  },
  {
   "cell_type": "code",
   "execution_count": 7,
   "metadata": {},
   "outputs": [],
   "source": [
    "# Spark streaming starts here\n",
    "try:\n",
    "    ssc.start()\n",
    "    ssc.awaitTermination()\n",
    "except KeyboardInterrupt:\n",
    "    logging.error(\"Stopping the streaming\")\n",
    "except Exception as e:\n",
    "    logging.error(\"An unhandled exception has occured.\")\n",
    "    logging.error(e)"
   ]
  }
 ],
 "metadata": {
  "kernelspec": {
   "display_name": "Python 2",
   "language": "python",
   "name": "python2"
  },
  "language_info": {
   "codemirror_mode": {
    "name": "ipython",
    "version": 2
   },
   "file_extension": ".py",
   "mimetype": "text/x-python",
   "name": "python",
   "nbconvert_exporter": "python",
   "pygments_lexer": "ipython2",
   "version": "2.7.13"
  }
 },
 "nbformat": 4,
 "nbformat_minor": 2
}
